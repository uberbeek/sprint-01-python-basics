{
 "cells": [
  {
   "cell_type": "markdown",
   "id": "f85a80d2",
   "metadata": {},
   "source": [
    "## Basic Python - Project <a id='intro'></a>"
   ]
  },
  {
   "cell_type": "markdown",
   "id": "a1262df4",
   "metadata": {},
   "source": [
    "## Introduction <a id='intro'></a>\n",
    "In this project, you will work with data from the entertainment industry. You will study a dataset with records on movies and shows. The research will focus on the \"Golden Age\" of television, which began in 1999 with the release of *The Sopranos* and is still ongoing.\n",
    "\n",
    "The aim of this project is to investigate how the number of votes a title receives impacts its ratings. The assumption is that highly-rated shows (we will focus on TV shows, ignoring movies) released during the \"Golden Age\" of television also have the most votes.\n",
    "\n",
    "### Stages \n",
    "Data on movies and shows is stored in the `/datasets/movies_and_shows.csv` file. There is no information about the quality of the data, so you will need to explore it before doing the analysis.\n",
    "\n",
    "First, you'll evaluate the quality of the data and see whether its issues are significant. Then, during data preprocessing, you will try to account for the most critical problems.\n",
    " \n",
    "Your project will consist of three stages:\n",
    " 1. Data overview\n",
    " 2. Data preprocessing\n",
    " 3. Data analysis"
   ]
  },
  {
   "cell_type": "markdown",
   "id": "ac0593ac",
   "metadata": {},
   "source": [
    "## Stage 1. Data overview <a id='data_review'></a>\n",
    "\n",
    "Open and explore the data."
   ]
  },
  {
   "cell_type": "markdown",
   "id": "e86ed00e",
   "metadata": {},
   "source": [
    "You'll need `pandas`, so import it."
   ]
  },
  {
   "cell_type": "code",
   "execution_count": 1,
   "id": "1727d3f8",
   "metadata": {},
   "outputs": [],
   "source": [
    "import pandas as pd\n"
   ]
  },
  {
   "cell_type": "markdown",
   "id": "9821beeb",
   "metadata": {},
   "source": [
    "Read the `movies_and_shows.csv` file from the `datasets` folder and save it in the `df` variable:"
   ]
  },
  {
   "cell_type": "code",
   "execution_count": 2,
   "id": "fc5a1402",
   "metadata": {},
   "outputs": [],
   "source": [
    "# reading the files and storing them to df\n",
    "df = pd.read_csv('/datasets/movies_and_shows.csv')"
   ]
  },
  {
   "cell_type": "markdown",
   "id": "1cd0a96d",
   "metadata": {},
   "source": [
    "Print the first 10 table rows:"
   ]
  },
  {
   "cell_type": "code",
   "execution_count": 3,
   "id": "acd92001",
   "metadata": {},
   "outputs": [
    {
     "data": {
      "text/html": [
       "<div>\n",
       "<style scoped>\n",
       "    .dataframe tbody tr th:only-of-type {\n",
       "        vertical-align: middle;\n",
       "    }\n",
       "\n",
       "    .dataframe tbody tr th {\n",
       "        vertical-align: top;\n",
       "    }\n",
       "\n",
       "    .dataframe thead th {\n",
       "        text-align: right;\n",
       "    }\n",
       "</style>\n",
       "<table border=\"1\" class=\"dataframe\">\n",
       "  <thead>\n",
       "    <tr style=\"text-align: right;\">\n",
       "      <th></th>\n",
       "      <th>name</th>\n",
       "      <th>Character</th>\n",
       "      <th>r0le</th>\n",
       "      <th>TITLE</th>\n",
       "      <th>Type</th>\n",
       "      <th>release Year</th>\n",
       "      <th>genres</th>\n",
       "      <th>imdb sc0re</th>\n",
       "      <th>imdb v0tes</th>\n",
       "    </tr>\n",
       "  </thead>\n",
       "  <tbody>\n",
       "    <tr>\n",
       "      <th>0</th>\n",
       "      <td>Robert De Niro</td>\n",
       "      <td>Travis Bickle</td>\n",
       "      <td>ACTOR</td>\n",
       "      <td>Taxi Driver</td>\n",
       "      <td>MOVIE</td>\n",
       "      <td>1976</td>\n",
       "      <td>['drama', 'crime']</td>\n",
       "      <td>8.2</td>\n",
       "      <td>808582.0</td>\n",
       "    </tr>\n",
       "    <tr>\n",
       "      <th>1</th>\n",
       "      <td>Jodie Foster</td>\n",
       "      <td>Iris Steensma</td>\n",
       "      <td>ACTOR</td>\n",
       "      <td>Taxi Driver</td>\n",
       "      <td>MOVIE</td>\n",
       "      <td>1976</td>\n",
       "      <td>['drama', 'crime']</td>\n",
       "      <td>8.2</td>\n",
       "      <td>808582.0</td>\n",
       "    </tr>\n",
       "    <tr>\n",
       "      <th>2</th>\n",
       "      <td>Albert Brooks</td>\n",
       "      <td>Tom</td>\n",
       "      <td>ACTOR</td>\n",
       "      <td>Taxi Driver</td>\n",
       "      <td>MOVIE</td>\n",
       "      <td>1976</td>\n",
       "      <td>['drama', 'crime']</td>\n",
       "      <td>8.2</td>\n",
       "      <td>808582.0</td>\n",
       "    </tr>\n",
       "    <tr>\n",
       "      <th>3</th>\n",
       "      <td>Harvey Keitel</td>\n",
       "      <td>Matthew 'Sport' Higgins</td>\n",
       "      <td>ACTOR</td>\n",
       "      <td>Taxi Driver</td>\n",
       "      <td>MOVIE</td>\n",
       "      <td>1976</td>\n",
       "      <td>['drama', 'crime']</td>\n",
       "      <td>8.2</td>\n",
       "      <td>808582.0</td>\n",
       "    </tr>\n",
       "    <tr>\n",
       "      <th>4</th>\n",
       "      <td>Cybill Shepherd</td>\n",
       "      <td>Betsy</td>\n",
       "      <td>ACTOR</td>\n",
       "      <td>Taxi Driver</td>\n",
       "      <td>MOVIE</td>\n",
       "      <td>1976</td>\n",
       "      <td>['drama', 'crime']</td>\n",
       "      <td>8.2</td>\n",
       "      <td>808582.0</td>\n",
       "    </tr>\n",
       "    <tr>\n",
       "      <th>5</th>\n",
       "      <td>Peter Boyle</td>\n",
       "      <td>Wizard</td>\n",
       "      <td>ACTOR</td>\n",
       "      <td>Taxi Driver</td>\n",
       "      <td>MOVIE</td>\n",
       "      <td>1976</td>\n",
       "      <td>['drama', 'crime']</td>\n",
       "      <td>8.2</td>\n",
       "      <td>808582.0</td>\n",
       "    </tr>\n",
       "    <tr>\n",
       "      <th>6</th>\n",
       "      <td>Leonard Harris</td>\n",
       "      <td>Senator Charles Palantine</td>\n",
       "      <td>ACTOR</td>\n",
       "      <td>Taxi Driver</td>\n",
       "      <td>MOVIE</td>\n",
       "      <td>1976</td>\n",
       "      <td>['drama', 'crime']</td>\n",
       "      <td>8.2</td>\n",
       "      <td>808582.0</td>\n",
       "    </tr>\n",
       "    <tr>\n",
       "      <th>7</th>\n",
       "      <td>Diahnne Abbott</td>\n",
       "      <td>Concession Girl</td>\n",
       "      <td>ACTOR</td>\n",
       "      <td>Taxi Driver</td>\n",
       "      <td>MOVIE</td>\n",
       "      <td>1976</td>\n",
       "      <td>['drama', 'crime']</td>\n",
       "      <td>8.2</td>\n",
       "      <td>808582.0</td>\n",
       "    </tr>\n",
       "    <tr>\n",
       "      <th>8</th>\n",
       "      <td>Gino Ardito</td>\n",
       "      <td>Policeman at Rally</td>\n",
       "      <td>ACTOR</td>\n",
       "      <td>Taxi Driver</td>\n",
       "      <td>MOVIE</td>\n",
       "      <td>1976</td>\n",
       "      <td>['drama', 'crime']</td>\n",
       "      <td>8.2</td>\n",
       "      <td>808582.0</td>\n",
       "    </tr>\n",
       "    <tr>\n",
       "      <th>9</th>\n",
       "      <td>Martin Scorsese</td>\n",
       "      <td>Passenger Watching Silhouette</td>\n",
       "      <td>ACTOR</td>\n",
       "      <td>Taxi Driver</td>\n",
       "      <td>MOVIE</td>\n",
       "      <td>1976</td>\n",
       "      <td>['drama', 'crime']</td>\n",
       "      <td>8.2</td>\n",
       "      <td>808582.0</td>\n",
       "    </tr>\n",
       "  </tbody>\n",
       "</table>\n",
       "</div>"
      ],
      "text/plain": [
       "              name                      Character   r0le        TITLE   Type  \\\n",
       "0   Robert De Niro                  Travis Bickle  ACTOR  Taxi Driver  MOVIE   \n",
       "1     Jodie Foster                  Iris Steensma  ACTOR  Taxi Driver  MOVIE   \n",
       "2    Albert Brooks                            Tom  ACTOR  Taxi Driver  MOVIE   \n",
       "3    Harvey Keitel        Matthew 'Sport' Higgins  ACTOR  Taxi Driver  MOVIE   \n",
       "4  Cybill Shepherd                          Betsy  ACTOR  Taxi Driver  MOVIE   \n",
       "5      Peter Boyle                         Wizard  ACTOR  Taxi Driver  MOVIE   \n",
       "6   Leonard Harris      Senator Charles Palantine  ACTOR  Taxi Driver  MOVIE   \n",
       "7   Diahnne Abbott                Concession Girl  ACTOR  Taxi Driver  MOVIE   \n",
       "8      Gino Ardito             Policeman at Rally  ACTOR  Taxi Driver  MOVIE   \n",
       "9  Martin Scorsese  Passenger Watching Silhouette  ACTOR  Taxi Driver  MOVIE   \n",
       "\n",
       "   release Year              genres  imdb sc0re  imdb v0tes  \n",
       "0          1976  ['drama', 'crime']         8.2    808582.0  \n",
       "1          1976  ['drama', 'crime']         8.2    808582.0  \n",
       "2          1976  ['drama', 'crime']         8.2    808582.0  \n",
       "3          1976  ['drama', 'crime']         8.2    808582.0  \n",
       "4          1976  ['drama', 'crime']         8.2    808582.0  \n",
       "5          1976  ['drama', 'crime']         8.2    808582.0  \n",
       "6          1976  ['drama', 'crime']         8.2    808582.0  \n",
       "7          1976  ['drama', 'crime']         8.2    808582.0  \n",
       "8          1976  ['drama', 'crime']         8.2    808582.0  \n",
       "9          1976  ['drama', 'crime']         8.2    808582.0  "
      ]
     },
     "execution_count": 3,
     "metadata": {},
     "output_type": "execute_result"
    }
   ],
   "source": [
    "# obtaining the first 10 rows from the df table\n",
    "df.head(10)\n"
   ]
  },
  {
   "cell_type": "markdown",
   "id": "e579aa91",
   "metadata": {},
   "source": [
    "Obtain the general information about the table with one command:"
   ]
  },
  {
   "cell_type": "code",
   "execution_count": 4,
   "id": "7bf66d2a",
   "metadata": {},
   "outputs": [
    {
     "name": "stdout",
     "output_type": "stream",
     "text": [
      "<class 'pandas.core.frame.DataFrame'>\n",
      "RangeIndex: 85579 entries, 0 to 85578\n",
      "Data columns (total 9 columns):\n",
      " #   Column        Non-Null Count  Dtype  \n",
      "---  ------        --------------  -----  \n",
      " 0      name       85579 non-null  object \n",
      " 1   Character     85579 non-null  object \n",
      " 2   r0le          85579 non-null  object \n",
      " 3   TITLE         85578 non-null  object \n",
      " 4     Type        85579 non-null  object \n",
      " 5   release Year  85579 non-null  int64  \n",
      " 6   genres        85579 non-null  object \n",
      " 7   imdb sc0re    80970 non-null  float64\n",
      " 8   imdb v0tes    80853 non-null  float64\n",
      "dtypes: float64(2), int64(1), object(6)\n",
      "memory usage: 5.9+ MB\n"
     ]
    }
   ],
   "source": [
    "# obtaining general information about the data in df\n",
    "df.info()"
   ]
  },
  {
   "cell_type": "markdown",
   "id": "e91f62a7",
   "metadata": {},
   "source": [
    "The table contains nine columns. The majority store the same data type: object. The only exceptions are `'release Year'` (int64 type), `'imdb sc0re'` (float64 type) and `'imdb v0tes'` (float64 type). Scores and votes will be used in our analysis, so it's important to verify that they are present in the dataframe in the appropriate numeric format. Three columns (`'TITLE'`, `'imdb sc0re'` and `'imdb v0tes'`) have missing values.\n",
    "\n",
    "According to the documentation:\n",
    "- `'name'` — actor/director's name and last name\n",
    "- `'Character'` — character played (for actors)\n",
    "- `'r0le '` — the person's contribution to the title (it can be in the capacity of either actor or director)\n",
    "- `'TITLE '` — title of the movie (show)\n",
    "- `'  Type'` — show or movie\n",
    "- `'release Year'` — year when movie (show) was released\n",
    "- `'genres'` — list of genres under which the movie (show) falls\n",
    "- `'imdb sc0re'` — score on IMDb\n",
    "- `'imdb v0tes'` — votes on IMDb\n",
    "\n",
    "We can see three issues with the column names:\n",
    "1. Some names are uppercase, while others are lowercase.\n",
    "2. There are names containing whitespace.\n",
    "3. A few column names have digit '0' instead of letter 'o'. \n"
   ]
  },
  {
   "cell_type": "markdown",
   "id": "4355de7b",
   "metadata": {},
   "source": [
    "### Conclusions <a id='data_review_conclusions'></a> \n",
    "\n",
    "Each row in the table stores data about a movie or show. The columns can be divided into two categories: the first is about the roles held by different people who worked on the movie or show (role, name of the actor or director, and character if the row is about an actor); the second category is information about the movie or show itself (title, release year, genre, imdb figures).\n",
    "\n",
    "It's clear that there is sufficient data to do the analysis and evaluate our assumption. However, to move forward, we need to preprocess the data."
   ]
  },
  {
   "cell_type": "markdown",
   "id": "c5dc9111",
   "metadata": {},
   "source": [
    "## Stage 2. Data preprocessing <a id='data_preprocessing'></a>\n",
    "Correct the formatting in the column headers and deal with the missing values. Then, check whether there are duplicates in the data."
   ]
  },
  {
   "cell_type": "code",
   "execution_count": 5,
   "id": "9c850d13",
   "metadata": {},
   "outputs": [
    {
     "data": {
      "text/plain": [
       "Index(['   name', 'Character', 'r0le', 'TITLE', '  Type', 'release Year',\n",
       "       'genres', 'imdb sc0re', 'imdb v0tes'],\n",
       "      dtype='object')"
      ]
     },
     "execution_count": 5,
     "metadata": {},
     "output_type": "execute_result"
    }
   ],
   "source": [
    "# the list of column names in the df table\n",
    "df.columns"
   ]
  },
  {
   "cell_type": "markdown",
   "id": "5f966df9",
   "metadata": {},
   "source": [
    "Change the column names according to the rules of good style:\n",
    "* If the name has several words, use snake_case\n",
    "* All characters must be lowercase\n",
    "* Remove whitespace\n",
    "* Replace zero with letter 'o'"
   ]
  },
  {
   "cell_type": "code",
   "execution_count": 6,
   "id": "23a1dc11",
   "metadata": {},
   "outputs": [],
   "source": [
    "# renaming columns\n",
    "new_cols = df.columns\n",
    "new_cols = [x.lower().strip() for x in new_cols]\n",
    "new_cols = [x.replace('0', 'o') for x in new_cols]\n",
    "new_cols = [x.replace(' ', '_') for x in new_cols]\n",
    "df.columns = new_cols"
   ]
  },
  {
   "cell_type": "markdown",
   "id": "464fbd04",
   "metadata": {},
   "source": [
    "Check the result. Print the names of the columns once more:"
   ]
  },
  {
   "cell_type": "code",
   "execution_count": 7,
   "id": "0eb6527f",
   "metadata": {},
   "outputs": [
    {
     "data": {
      "text/plain": [
       "Index(['name', 'character', 'role', 'title', 'type', 'release_year', 'genres',\n",
       "       'imdb_score', 'imdb_votes'],\n",
       "      dtype='object')"
      ]
     },
     "execution_count": 7,
     "metadata": {},
     "output_type": "execute_result"
    }
   ],
   "source": [
    "# checking result: the list of column names\n",
    "df.columns"
   ]
  },
  {
   "cell_type": "markdown",
   "id": "14d9c319",
   "metadata": {},
   "source": [
    "### Missing values <a id='missing_values'></a>\n",
    "First, find the number of missing values in the table. To do so, combine two `pandas` methods:"
   ]
  },
  {
   "cell_type": "code",
   "execution_count": 8,
   "id": "21c427f2",
   "metadata": {},
   "outputs": [
    {
     "data": {
      "text/plain": [
       "name               0\n",
       "character          0\n",
       "role               0\n",
       "title              1\n",
       "type               0\n",
       "release_year       0\n",
       "genres             0\n",
       "imdb_score      4609\n",
       "imdb_votes      4726\n",
       "dtype: int64"
      ]
     },
     "execution_count": 8,
     "metadata": {},
     "output_type": "execute_result"
    }
   ],
   "source": [
    "# calculating missing values\n",
    "df.isna().sum()"
   ]
  },
  {
   "cell_type": "markdown",
   "id": "c8272df3",
   "metadata": {},
   "source": [
    "We identified missing values in several columns. While the missing value in `'title'` isn't critical, missing values in `'imdb_score'` and `'imdb_votes'` affect around 6% of the data, which could impact our analysis. To ensure data integrity, we'll drop all rows with missing values."
   ]
  },
  {
   "cell_type": "code",
   "execution_count": 9,
   "id": "599d5550",
   "metadata": {},
   "outputs": [],
   "source": [
    "# dropping rows where columns with scores, and votes have missing values\n",
    "df.dropna(inplace=True)"
   ]
  },
  {
   "cell_type": "markdown",
   "id": "2156887f",
   "metadata": {},
   "source": [
    "Make sure the table doesn't contain any more missing values. Count the missing values again."
   ]
  },
  {
   "cell_type": "code",
   "execution_count": 10,
   "id": "55c0b0ce",
   "metadata": {},
   "outputs": [
    {
     "data": {
      "text/plain": [
       "name            0\n",
       "character       0\n",
       "role            0\n",
       "title           0\n",
       "type            0\n",
       "release_year    0\n",
       "genres          0\n",
       "imdb_score      0\n",
       "imdb_votes      0\n",
       "dtype: int64"
      ]
     },
     "execution_count": 10,
     "metadata": {},
     "output_type": "execute_result"
    }
   ],
   "source": [
    "# counting missing values\n",
    "df.isna().sum()"
   ]
  },
  {
   "cell_type": "markdown",
   "id": "a7dc7aa0",
   "metadata": {},
   "source": [
    "### Duplicates <a id='duplicates'></a>\n",
    "Find the number of duplicate rows in the table using one command:"
   ]
  },
  {
   "cell_type": "code",
   "execution_count": 11,
   "id": "9227df01",
   "metadata": {},
   "outputs": [
    {
     "data": {
      "text/plain": [
       "6994"
      ]
     },
     "execution_count": 11,
     "metadata": {},
     "output_type": "execute_result"
    }
   ],
   "source": [
    "# counting duplicate rows\n",
    "df.duplicated().sum()"
   ]
  },
  {
   "cell_type": "markdown",
   "id": "5f6eb0fc",
   "metadata": {},
   "source": [
    "Review the duplicate rows to determine if removing them would distort our dataset."
   ]
  },
  {
   "cell_type": "code",
   "execution_count": 12,
   "id": "bcf32fcb",
   "metadata": {},
   "outputs": [
    {
     "data": {
      "text/html": [
       "<div>\n",
       "<style scoped>\n",
       "    .dataframe tbody tr th:only-of-type {\n",
       "        vertical-align: middle;\n",
       "    }\n",
       "\n",
       "    .dataframe tbody tr th {\n",
       "        vertical-align: top;\n",
       "    }\n",
       "\n",
       "    .dataframe thead th {\n",
       "        text-align: right;\n",
       "    }\n",
       "</style>\n",
       "<table border=\"1\" class=\"dataframe\">\n",
       "  <thead>\n",
       "    <tr style=\"text-align: right;\">\n",
       "      <th></th>\n",
       "      <th>name</th>\n",
       "      <th>character</th>\n",
       "      <th>role</th>\n",
       "      <th>title</th>\n",
       "      <th>type</th>\n",
       "      <th>release_year</th>\n",
       "      <th>genres</th>\n",
       "      <th>imdb_score</th>\n",
       "      <th>imdb_votes</th>\n",
       "    </tr>\n",
       "  </thead>\n",
       "  <tbody>\n",
       "    <tr>\n",
       "      <th>70197</th>\n",
       "      <td>Žø?tar G??kseven</td>\n",
       "      <td>Ali Seker</td>\n",
       "      <td>ACTOR</td>\n",
       "      <td>The Club</td>\n",
       "      <td>SHOW</td>\n",
       "      <td>2021</td>\n",
       "      <td>['drama', 'comedy']</td>\n",
       "      <td>7.9</td>\n",
       "      <td>7810.0</td>\n",
       "    </tr>\n",
       "    <tr>\n",
       "      <th>76500</th>\n",
       "      <td>‚§‘ý?‘ñ</td>\n",
       "      <td>unknown</td>\n",
       "      <td>ACTOR</td>\n",
       "      <td>Zero to Hero</td>\n",
       "      <td>MOVIE</td>\n",
       "      <td>2021</td>\n",
       "      <td>['drama', 'sport']</td>\n",
       "      <td>6.7</td>\n",
       "      <td>842.0</td>\n",
       "    </tr>\n",
       "    <tr>\n",
       "      <th>84278</th>\n",
       "      <td>‚§‘ý?‘ñ</td>\n",
       "      <td>unknown</td>\n",
       "      <td>ACTOR</td>\n",
       "      <td>Zero to Hero</td>\n",
       "      <td>MOVIE</td>\n",
       "      <td>2021</td>\n",
       "      <td>['drama', 'sport']</td>\n",
       "      <td>6.7</td>\n",
       "      <td>842.0</td>\n",
       "    </tr>\n",
       "    <tr>\n",
       "      <th>84408</th>\n",
       "      <td>‡??†ññ‡®?‘ª­</td>\n",
       "      <td>unknown</td>\n",
       "      <td>ACTOR</td>\n",
       "      <td>Creator's File: GOLD</td>\n",
       "      <td>SHOW</td>\n",
       "      <td>2021</td>\n",
       "      <td>['drama', 'comedy']</td>\n",
       "      <td>6.6</td>\n",
       "      <td>22.0</td>\n",
       "    </tr>\n",
       "    <tr>\n",
       "      <th>76630</th>\n",
       "      <td>‡??†ññ‡®?‘ª­</td>\n",
       "      <td>unknown</td>\n",
       "      <td>ACTOR</td>\n",
       "      <td>Creator's File: GOLD</td>\n",
       "      <td>SHOW</td>\n",
       "      <td>2021</td>\n",
       "      <td>['drama', 'comedy']</td>\n",
       "      <td>6.6</td>\n",
       "      <td>22.0</td>\n",
       "    </tr>\n",
       "  </tbody>\n",
       "</table>\n",
       "</div>"
      ],
      "text/plain": [
       "                    name  character   role                 title   type  \\\n",
       "70197  Žø?tar G??kseven  Ali Seker  ACTOR              The Club   SHOW   \n",
       "76500          ‚§‘ý?‘ñ    unknown  ACTOR          Zero to Hero  MOVIE   \n",
       "84278          ‚§‘ý?‘ñ    unknown  ACTOR          Zero to Hero  MOVIE   \n",
       "84408       ‡??†ññ‡®?‘ª­    unknown  ACTOR  Creator's File: GOLD   SHOW   \n",
       "76630       ‡??†ññ‡®?‘ª­    unknown  ACTOR  Creator's File: GOLD   SHOW   \n",
       "\n",
       "       release_year               genres  imdb_score  imdb_votes  \n",
       "70197          2021  ['drama', 'comedy']         7.9      7810.0  \n",
       "76500          2021   ['drama', 'sport']         6.7       842.0  \n",
       "84278          2021   ['drama', 'sport']         6.7       842.0  \n",
       "84408          2021  ['drama', 'comedy']         6.6        22.0  \n",
       "76630          2021  ['drama', 'comedy']         6.6        22.0  "
      ]
     },
     "execution_count": 12,
     "metadata": {},
     "output_type": "execute_result"
    }
   ],
   "source": [
    "# Produce table with duplicates (with original rows included) and review last 5 rows\n",
    "df[df.duplicated(keep=False)].sort_values(by='name').tail()"
   ]
  },
  {
   "cell_type": "markdown",
   "id": "a1ed6640",
   "metadata": {},
   "source": [
    "There are two clear duplicates in the printed rows. We can safely remove them.\n",
    "Call the `pandas` method for getting rid of duplicate rows:"
   ]
  },
  {
   "cell_type": "code",
   "execution_count": 13,
   "id": "724d5bc8",
   "metadata": {},
   "outputs": [],
   "source": [
    "# removing duplicate rows\n",
    "df = df.drop_duplicates()"
   ]
  },
  {
   "cell_type": "markdown",
   "id": "fc8c77ba",
   "metadata": {},
   "source": [
    "Check for duplicate rows once more to make sure you have removed all of them:"
   ]
  },
  {
   "cell_type": "code",
   "execution_count": 14,
   "id": "8091a9bc",
   "metadata": {},
   "outputs": [
    {
     "data": {
      "text/plain": [
       "0"
      ]
     },
     "execution_count": 14,
     "metadata": {},
     "output_type": "execute_result"
    }
   ],
   "source": [
    "# checking for duplicates\n",
    "df.duplicated().sum()"
   ]
  },
  {
   "cell_type": "markdown",
   "id": "1d802b07",
   "metadata": {},
   "source": [
    "Now get rid of implicit duplicates in the `'type'` column. For example, the string `'SHOW'` can be written in different ways. These kinds of errors will also affect the result."
   ]
  },
  {
   "cell_type": "markdown",
   "id": "d5f987ed",
   "metadata": {},
   "source": [
    "Print a list of unique `'type'` names, sorted in alphabetical order. To do so:\n",
    "* Retrieve the intended dataframe column \n",
    "* Apply a sorting method to it\n",
    "* For the sorted column, call the method that will return all unique column values"
   ]
  },
  {
   "cell_type": "code",
   "execution_count": 15,
   "id": "3d7b0ac5",
   "metadata": {},
   "outputs": [
    {
     "data": {
      "text/plain": [
       "array(['MOVIE', 'SHOW', 'movies', 'shows', 'the movie', 'tv', 'tv series',\n",
       "       'tv show', 'tv shows'], dtype=object)"
      ]
     },
     "execution_count": 15,
     "metadata": {},
     "output_type": "execute_result"
    }
   ],
   "source": [
    "# viewing unique type names\n",
    "df['type'].sort_values().unique()"
   ]
  },
  {
   "cell_type": "markdown",
   "id": "ac6e8b18",
   "metadata": {},
   "source": [
    "Look through the list to find implicit duplicates of `'show'` (`'movie'` duplicates will be ignored since the assumption is about shows). These could be names written incorrectly or alternative names of the same genre.\n",
    "\n",
    "You will see the following implicit duplicates:\n",
    "* `'shows'`\n",
    "* `'SHOW'`\n",
    "* `'tv show'`\n",
    "* `'tv shows'`\n",
    "* `'tv series'`\n",
    "* `'tv'`\n",
    "\n",
    "To get rid of them, declare the function `replace_wrong_show()` with two parameters: \n",
    "* `wrong_shows_list=` — the list of duplicates\n",
    "* `correct_show=` — the string with the correct value\n",
    "\n",
    "The function should correct the names in the `'type'` column from the `df` table (i.e., replace each value from the `wrong_shows_list` list with the value in `correct_show`)."
   ]
  },
  {
   "cell_type": "code",
   "execution_count": 16,
   "id": "bff944f9",
   "metadata": {},
   "outputs": [],
   "source": [
    "# function for replacing implicit duplicates\n",
    "def replace_wrong_show(wrong_shows_list, correct_show):\n",
    "    return(df['type'].copy().replace(to_replace=wrong_shows_list, value=correct_show))\n",
    "\n"
   ]
  },
  {
   "cell_type": "markdown",
   "id": "d02d13a6",
   "metadata": {},
   "source": [
    "Call `replace_wrong_show()` and pass it arguments so that it clears implicit duplicates and replaces them with `SHOW`:"
   ]
  },
  {
   "cell_type": "code",
   "execution_count": 17,
   "id": "a2217e53",
   "metadata": {},
   "outputs": [],
   "source": [
    "# removing implicit duplicates\n",
    "df['type'] = replace_wrong_show(['SHOW', 'shows', 'tv', 'tv series', 'tv show', 'tv shows'], 'SHOW')\n",
    "\n"
   ]
  },
  {
   "cell_type": "markdown",
   "id": "318b09f7",
   "metadata": {},
   "source": [
    "Make sure the duplicate names are removed. Print the list of unique values from the `'type'` column:"
   ]
  },
  {
   "cell_type": "code",
   "execution_count": 18,
   "id": "25d49d73",
   "metadata": {},
   "outputs": [
    {
     "data": {
      "text/plain": [
       "array(['MOVIE', 'SHOW', 'movies', 'the movie'], dtype=object)"
      ]
     },
     "execution_count": 18,
     "metadata": {},
     "output_type": "execute_result"
    }
   ],
   "source": [
    "# viewing unique genre names\n",
    "df['type'].sort_values().unique()"
   ]
  },
  {
   "cell_type": "markdown",
   "id": "18b2049e",
   "metadata": {},
   "source": [
    "### Conclusions <a id='data_preprocessing_conclusions'></a>\n",
    "We detected three issues with the data:\n",
    "\n",
    "- Incorrect header styles\n",
    "- Missing values\n",
    "- Duplicate rows and implicit duplicates\n",
    "\n",
    "The headers have been cleaned up to make processing the table simpler.\n",
    "\n",
    "All rows with missing values have been removed. \n",
    "\n",
    "The absence of duplicates will make the results more precise and easier to understand.\n",
    "\n",
    "Now we can move on to our analysis of the prepared data."
   ]
  },
  {
   "cell_type": "markdown",
   "id": "1aa0f1b1",
   "metadata": {},
   "source": [
    "## Stage 3. Data analysis <a id='hypotheses'></a>"
   ]
  },
  {
   "cell_type": "markdown",
   "id": "f8fb6a0e",
   "metadata": {},
   "source": [
    "Based on the previous project stages, you can now define how the assumption will be checked. Calculate the average amount of votes for each score (this data is available in the `imdb_score` and `imdb_votes` columns), and then check how these averages relate to each other. If the averages for shows with the highest scores are bigger than those for shows with lower scores, the assumption appears to be true.\n",
    "\n",
    "Based on this, complete the following steps:\n",
    "\n",
    "- Filter the dataframe to only include shows released in 1999 or later.\n",
    "- Group scores into buckets by rounding the values of the appropriate column (a set of 1-10 integers will help us make the outcome of our calculations more evident without damaging the quality of our research).\n",
    "- Identify outliers among scores based on their number of votes, and exclude scores with few votes.\n",
    "- Calculate the average votes for each score and check whether the assumption matches the results."
   ]
  },
  {
   "cell_type": "markdown",
   "id": "0ea2cb51",
   "metadata": {},
   "source": [
    "To filter the dataframe and only include shows released in 1999 or later, you will take two steps. First, keep only titles published in 1999 or later in our dataframe. Then, filter the table to only contain shows (movies will be removed)."
   ]
  },
  {
   "cell_type": "code",
   "execution_count": 19,
   "id": "6a704aa1",
   "metadata": {},
   "outputs": [],
   "source": [
    "# using conditional indexing modify df so it has only titles released after 1999 (with 1999 included)\n",
    "# give the slice of dataframe new name\n",
    "golden_age = df[df['release_year'] >= 1999]"
   ]
  },
  {
   "cell_type": "code",
   "execution_count": 20,
   "id": "128dc6a9",
   "metadata": {
    "scrolled": true
   },
   "outputs": [],
   "source": [
    "# repeat conditional indexing so df has only shows (movies are removed as result)\n",
    "golden_age = golden_age[golden_age['type'] == 'SHOW']"
   ]
  },
  {
   "cell_type": "markdown",
   "id": "9648040c",
   "metadata": {},
   "source": [
    "The scores that are to be grouped should be rounded. For instance, titles with scores like 7.8, 8.1, and 8.3 will all be placed in the same bucket with a score of 8."
   ]
  },
  {
   "cell_type": "code",
   "execution_count": 21,
   "id": "54bbd5c0",
   "metadata": {},
   "outputs": [
    {
     "data": {
      "text/html": [
       "<div>\n",
       "<style scoped>\n",
       "    .dataframe tbody tr th:only-of-type {\n",
       "        vertical-align: middle;\n",
       "    }\n",
       "\n",
       "    .dataframe tbody tr th {\n",
       "        vertical-align: top;\n",
       "    }\n",
       "\n",
       "    .dataframe thead th {\n",
       "        text-align: right;\n",
       "    }\n",
       "</style>\n",
       "<table border=\"1\" class=\"dataframe\">\n",
       "  <thead>\n",
       "    <tr style=\"text-align: right;\">\n",
       "      <th></th>\n",
       "      <th>name</th>\n",
       "      <th>character</th>\n",
       "      <th>role</th>\n",
       "      <th>title</th>\n",
       "      <th>type</th>\n",
       "      <th>release_year</th>\n",
       "      <th>genres</th>\n",
       "      <th>imdb_score</th>\n",
       "      <th>imdb_votes</th>\n",
       "    </tr>\n",
       "  </thead>\n",
       "  <tbody>\n",
       "    <tr>\n",
       "      <th>85433</th>\n",
       "      <td>Maneerat Kam-Uan</td>\n",
       "      <td>Ae</td>\n",
       "      <td>ACTOR</td>\n",
       "      <td>Let's Eat</td>\n",
       "      <td>SHOW</td>\n",
       "      <td>2021</td>\n",
       "      <td>['drama', 'comedy']</td>\n",
       "      <td>8</td>\n",
       "      <td>5.0</td>\n",
       "    </tr>\n",
       "    <tr>\n",
       "      <th>85434</th>\n",
       "      <td>Rudklao Amratisha</td>\n",
       "      <td>unknown</td>\n",
       "      <td>ACTOR</td>\n",
       "      <td>Let's Eat</td>\n",
       "      <td>SHOW</td>\n",
       "      <td>2021</td>\n",
       "      <td>['drama', 'comedy']</td>\n",
       "      <td>8</td>\n",
       "      <td>5.0</td>\n",
       "    </tr>\n",
       "    <tr>\n",
       "      <th>85435</th>\n",
       "      <td>Jaturong Mokjok</td>\n",
       "      <td>unknown</td>\n",
       "      <td>ACTOR</td>\n",
       "      <td>Let's Eat</td>\n",
       "      <td>SHOW</td>\n",
       "      <td>2021</td>\n",
       "      <td>['drama', 'comedy']</td>\n",
       "      <td>8</td>\n",
       "      <td>5.0</td>\n",
       "    </tr>\n",
       "    <tr>\n",
       "      <th>85436</th>\n",
       "      <td>Pisamai Wilaisak</td>\n",
       "      <td>unknown</td>\n",
       "      <td>ACTOR</td>\n",
       "      <td>Let's Eat</td>\n",
       "      <td>SHOW</td>\n",
       "      <td>2021</td>\n",
       "      <td>['drama', 'comedy']</td>\n",
       "      <td>8</td>\n",
       "      <td>5.0</td>\n",
       "    </tr>\n",
       "    <tr>\n",
       "      <th>85437</th>\n",
       "      <td>Sarawut Wichiensarn</td>\n",
       "      <td>unknown</td>\n",
       "      <td>DIRECTOR</td>\n",
       "      <td>Let's Eat</td>\n",
       "      <td>SHOW</td>\n",
       "      <td>2021</td>\n",
       "      <td>['drama', 'comedy']</td>\n",
       "      <td>8</td>\n",
       "      <td>5.0</td>\n",
       "    </tr>\n",
       "  </tbody>\n",
       "</table>\n",
       "</div>"
      ],
      "text/plain": [
       "                      name character      role      title  type  release_year  \\\n",
       "85433     Maneerat Kam-Uan        Ae     ACTOR  Let's Eat  SHOW          2021   \n",
       "85434    Rudklao Amratisha   unknown     ACTOR  Let's Eat  SHOW          2021   \n",
       "85435      Jaturong Mokjok   unknown     ACTOR  Let's Eat  SHOW          2021   \n",
       "85436     Pisamai Wilaisak   unknown     ACTOR  Let's Eat  SHOW          2021   \n",
       "85437  Sarawut Wichiensarn   unknown  DIRECTOR  Let's Eat  SHOW          2021   \n",
       "\n",
       "                    genres  imdb_score  imdb_votes  \n",
       "85433  ['drama', 'comedy']           8         5.0  \n",
       "85434  ['drama', 'comedy']           8         5.0  \n",
       "85435  ['drama', 'comedy']           8         5.0  \n",
       "85436  ['drama', 'comedy']           8         5.0  \n",
       "85437  ['drama', 'comedy']           8         5.0  "
      ]
     },
     "execution_count": 21,
     "metadata": {},
     "output_type": "execute_result"
    }
   ],
   "source": [
    "# rounding column with scores\n",
    "golden_age['imdb_score'] = golden_age['imdb_score'].round().astype(int)\n",
    "\n",
    "#checking the outcome with tail()\n",
    "golden_age.tail()"
   ]
  },
  {
   "cell_type": "markdown",
   "id": "36dbd00a",
   "metadata": {},
   "source": [
    "It is now time to identify outliers based on the number of votes."
   ]
  },
  {
   "cell_type": "code",
   "execution_count": 22,
   "id": "b8b55e95",
   "metadata": {},
   "outputs": [
    {
     "data": {
      "text/plain": [
       "imdb_score\n",
       "2       24\n",
       "3       27\n",
       "4      180\n",
       "5      592\n",
       "6     2494\n",
       "7     4706\n",
       "8     4842\n",
       "9      557\n",
       "10       8\n",
       "Name: imdb_votes, dtype: int64"
      ]
     },
     "execution_count": 22,
     "metadata": {},
     "output_type": "execute_result"
    }
   ],
   "source": [
    "# Use groupby() for scores and count all unique values in each group, print the result\n",
    "golden_age.groupby('imdb_score')['imdb_votes'].count()"
   ]
  },
  {
   "cell_type": "markdown",
   "id": "1ba6daae",
   "metadata": {},
   "source": [
    "Based on the aggregation performed, it is evident that scores 2 (24 voted shows), 3 (27 voted shows), and 10 (only 8 voted shows) are outliers. There isn't enough data for these scores for the average number of votes to be meaningful."
   ]
  },
  {
   "cell_type": "markdown",
   "id": "bd468c46",
   "metadata": {},
   "source": [
    "To obtain the mean numbers of votes for the selected scores (we identified a range of 4-9 as acceptable), use conditional filtering and grouping."
   ]
  },
  {
   "cell_type": "code",
   "execution_count": 23,
   "id": "d1867e0e",
   "metadata": {},
   "outputs": [
    {
     "data": {
      "text/html": [
       "<div>\n",
       "<style scoped>\n",
       "    .dataframe tbody tr th:only-of-type {\n",
       "        vertical-align: middle;\n",
       "    }\n",
       "\n",
       "    .dataframe tbody tr th {\n",
       "        vertical-align: top;\n",
       "    }\n",
       "\n",
       "    .dataframe thead th {\n",
       "        text-align: right;\n",
       "    }\n",
       "</style>\n",
       "<table border=\"1\" class=\"dataframe\">\n",
       "  <thead>\n",
       "    <tr style=\"text-align: right;\">\n",
       "      <th></th>\n",
       "      <th>imdb_score</th>\n",
       "      <th>imdb_votes</th>\n",
       "    </tr>\n",
       "  </thead>\n",
       "  <tbody>\n",
       "    <tr>\n",
       "      <th>0</th>\n",
       "      <td>4</td>\n",
       "      <td>5277.583333</td>\n",
       "    </tr>\n",
       "    <tr>\n",
       "      <th>1</th>\n",
       "      <td>5</td>\n",
       "      <td>3143.942568</td>\n",
       "    </tr>\n",
       "    <tr>\n",
       "      <th>2</th>\n",
       "      <td>6</td>\n",
       "      <td>3481.717322</td>\n",
       "    </tr>\n",
       "    <tr>\n",
       "      <th>3</th>\n",
       "      <td>7</td>\n",
       "      <td>8727.068211</td>\n",
       "    </tr>\n",
       "    <tr>\n",
       "      <th>4</th>\n",
       "      <td>8</td>\n",
       "      <td>30299.460967</td>\n",
       "    </tr>\n",
       "    <tr>\n",
       "      <th>5</th>\n",
       "      <td>9</td>\n",
       "      <td>126904.109515</td>\n",
       "    </tr>\n",
       "  </tbody>\n",
       "</table>\n",
       "</div>"
      ],
      "text/plain": [
       "   imdb_score     imdb_votes\n",
       "0           4    5277.583333\n",
       "1           5    3143.942568\n",
       "2           6    3481.717322\n",
       "3           7    8727.068211\n",
       "4           8   30299.460967\n",
       "5           9  126904.109515"
      ]
     },
     "metadata": {},
     "output_type": "display_data"
    }
   ],
   "source": [
    "# filter dataframe using two conditions (scores to be in the range 4-9)\n",
    "golden_age = golden_age[golden_age['imdb_score'] >= 4]\n",
    "golden_age = golden_age[golden_age['imdb_score'] <= 9]\n",
    "\n",
    "# group scores and corresponding average number of votes, reset index and print the result\n",
    "votes_by_score = golden_age.groupby('imdb_score')['imdb_votes'].mean().to_frame().reset_index()\n",
    "display(votes_by_score)"
   ]
  },
  {
   "cell_type": "markdown",
   "id": "96a66d14",
   "metadata": {},
   "source": [
    "Now for the final step! Round the column with the averages, rename both columns, and print the dataframe in descending order."
   ]
  },
  {
   "cell_type": "code",
   "execution_count": 24,
   "id": "5999051b",
   "metadata": {},
   "outputs": [
    {
     "data": {
      "text/html": [
       "<div>\n",
       "<style scoped>\n",
       "    .dataframe tbody tr th:only-of-type {\n",
       "        vertical-align: middle;\n",
       "    }\n",
       "\n",
       "    .dataframe tbody tr th {\n",
       "        vertical-align: top;\n",
       "    }\n",
       "\n",
       "    .dataframe thead th {\n",
       "        text-align: right;\n",
       "    }\n",
       "</style>\n",
       "<table border=\"1\" class=\"dataframe\">\n",
       "  <thead>\n",
       "    <tr style=\"text-align: right;\">\n",
       "      <th></th>\n",
       "      <th>score</th>\n",
       "      <th>votes</th>\n",
       "    </tr>\n",
       "  </thead>\n",
       "  <tbody>\n",
       "    <tr>\n",
       "      <th>5</th>\n",
       "      <td>9</td>\n",
       "      <td>126904</td>\n",
       "    </tr>\n",
       "    <tr>\n",
       "      <th>4</th>\n",
       "      <td>8</td>\n",
       "      <td>30299</td>\n",
       "    </tr>\n",
       "    <tr>\n",
       "      <th>3</th>\n",
       "      <td>7</td>\n",
       "      <td>8727</td>\n",
       "    </tr>\n",
       "    <tr>\n",
       "      <th>0</th>\n",
       "      <td>4</td>\n",
       "      <td>5278</td>\n",
       "    </tr>\n",
       "    <tr>\n",
       "      <th>2</th>\n",
       "      <td>6</td>\n",
       "      <td>3482</td>\n",
       "    </tr>\n",
       "    <tr>\n",
       "      <th>1</th>\n",
       "      <td>5</td>\n",
       "      <td>3144</td>\n",
       "    </tr>\n",
       "  </tbody>\n",
       "</table>\n",
       "</div>"
      ],
      "text/plain": [
       "   score   votes\n",
       "5      9  126904\n",
       "4      8   30299\n",
       "3      7    8727\n",
       "0      4    5278\n",
       "2      6    3482\n",
       "1      5    3144"
      ]
     },
     "execution_count": 24,
     "metadata": {},
     "output_type": "execute_result"
    }
   ],
   "source": [
    "# round column with averages\n",
    "votes_by_score = votes_by_score.round().astype(int)\n",
    "\n",
    "# rename columns [rename them to what?]\n",
    "votes_by_score.columns = ['score', 'votes']\n",
    "\n",
    "# print dataframe in descending order\n",
    "votes_by_score.sort_values(by='votes', ascending=False)"
   ]
  },
  {
   "cell_type": "markdown",
   "id": "af07386d",
   "metadata": {},
   "source": [
    "The assumption macthes the analysis: the shows with the top 3 scores have the most amounts of votes."
   ]
  },
  {
   "cell_type": "markdown",
   "id": "84e29a37",
   "metadata": {},
   "source": [
    "## Conclusion <a id='hypotheses'></a>"
   ]
  },
  {
   "cell_type": "markdown",
   "id": "984766a3",
   "metadata": {},
   "source": [
    "The research done confirms that highly-rated shows released during the \"Golden Age\" of television also have the most votes. While shows with score 4 have more votes than ones with scores 5 and 6, the top three (scores 7-9) have the largest number. The data studied represents around 94% of the original set, so we can be confident in our findings."
   ]
  }
 ],
 "metadata": {
  "ExecuteTimeLog": [
   {
    "duration": 294,
    "start_time": "2024-08-31T01:23:23.583Z"
   },
   {
    "duration": 4,
    "start_time": "2024-08-31T01:23:52.957Z"
   },
   {
    "duration": 182,
    "start_time": "2024-08-31T01:24:07.072Z"
   },
   {
    "duration": 13,
    "start_time": "2024-08-31T01:25:13.582Z"
   },
   {
    "duration": 157,
    "start_time": "2024-08-31T01:25:58.439Z"
   },
   {
    "duration": 14,
    "start_time": "2024-08-31T01:26:21.777Z"
   },
   {
    "duration": 24,
    "start_time": "2024-08-31T01:27:05.391Z"
   },
   {
    "duration": 4,
    "start_time": "2024-08-31T01:29:27.807Z"
   },
   {
    "duration": 5,
    "start_time": "2024-08-31T01:32:05.420Z"
   },
   {
    "duration": 4,
    "start_time": "2024-08-31T01:32:15.585Z"
   },
   {
    "duration": 3,
    "start_time": "2024-08-31T01:33:29.300Z"
   },
   {
    "duration": 4,
    "start_time": "2024-08-31T01:33:35.250Z"
   },
   {
    "duration": 2,
    "start_time": "2024-08-31T01:33:56.918Z"
   },
   {
    "duration": 4,
    "start_time": "2024-08-31T01:34:02.717Z"
   },
   {
    "duration": 14,
    "start_time": "2024-08-31T01:35:29.905Z"
   },
   {
    "duration": 24,
    "start_time": "2024-08-31T01:36:10.340Z"
   },
   {
    "duration": 19,
    "start_time": "2024-08-31T01:36:27.068Z"
   },
   {
    "duration": 12,
    "start_time": "2024-08-31T01:37:12.516Z"
   },
   {
    "duration": 40,
    "start_time": "2024-08-31T01:37:58.220Z"
   },
   {
    "duration": 19,
    "start_time": "2024-08-31T01:38:11.530Z"
   },
   {
    "duration": 12,
    "start_time": "2024-08-31T01:38:20.516Z"
   },
   {
    "duration": 12,
    "start_time": "2024-08-31T01:39:05.412Z"
   },
   {
    "duration": 26,
    "start_time": "2024-08-31T01:39:15.166Z"
   },
   {
    "duration": 18,
    "start_time": "2024-08-31T01:39:19.835Z"
   },
   {
    "duration": 45,
    "start_time": "2024-08-31T01:40:34.667Z"
   },
   {
    "duration": 40,
    "start_time": "2024-08-31T01:40:42.283Z"
   },
   {
    "duration": 49,
    "start_time": "2024-08-31T01:42:54.315Z"
   },
   {
    "duration": 41,
    "start_time": "2024-08-31T01:43:18.818Z"
   },
   {
    "duration": 342,
    "start_time": "2024-08-31T01:43:36.866Z"
   },
   {
    "duration": 48,
    "start_time": "2024-08-31T01:43:49.594Z"
   },
   {
    "duration": 49,
    "start_time": "2024-08-31T01:45:21.378Z"
   },
   {
    "duration": 51,
    "start_time": "2024-08-31T01:49:49.357Z"
   },
   {
    "duration": 54,
    "start_time": "2024-08-31T01:50:46.768Z"
   },
   {
    "duration": 55,
    "start_time": "2024-08-31T01:51:13.136Z"
   },
   {
    "duration": 57,
    "start_time": "2024-08-31T01:51:41.439Z"
   },
   {
    "duration": 58,
    "start_time": "2024-08-31T01:52:03.071Z"
   },
   {
    "duration": 59,
    "start_time": "2024-08-31T01:52:15.144Z"
   },
   {
    "duration": 55,
    "start_time": "2024-08-31T01:52:49.590Z"
   },
   {
    "duration": 45,
    "start_time": "2024-08-31T01:53:11.779Z"
   },
   {
    "duration": 46,
    "start_time": "2024-08-31T01:53:18.409Z"
   },
   {
    "duration": 47,
    "start_time": "2024-08-31T01:53:24.007Z"
   },
   {
    "duration": 33,
    "start_time": "2024-08-31T01:55:30.295Z"
   },
   {
    "duration": 36,
    "start_time": "2024-08-31T01:56:01.918Z"
   },
   {
    "duration": 2,
    "start_time": "2024-08-31T02:03:54.724Z"
   },
   {
    "duration": 14,
    "start_time": "2024-08-31T02:03:57.724Z"
   },
   {
    "duration": 33,
    "start_time": "2024-08-31T02:04:22.685Z"
   },
   {
    "duration": 3,
    "start_time": "2024-08-31T02:04:41.028Z"
   },
   {
    "duration": 13,
    "start_time": "2024-08-31T02:04:48.287Z"
   },
   {
    "duration": 3,
    "start_time": "2024-08-31T02:05:25.587Z"
   },
   {
    "duration": 14,
    "start_time": "2024-08-31T02:05:30.423Z"
   },
   {
    "duration": 3,
    "start_time": "2024-08-31T02:05:47.428Z"
   },
   {
    "duration": 17,
    "start_time": "2024-08-31T02:06:02.756Z"
   },
   {
    "duration": 3,
    "start_time": "2024-08-31T02:06:16.372Z"
   },
   {
    "duration": 13,
    "start_time": "2024-08-31T02:06:20.578Z"
   },
   {
    "duration": 14,
    "start_time": "2024-08-31T02:06:44.267Z"
   },
   {
    "duration": 13,
    "start_time": "2024-08-31T02:10:05.835Z"
   },
   {
    "duration": 24,
    "start_time": "2024-08-31T02:10:34.843Z"
   },
   {
    "duration": 20,
    "start_time": "2024-08-31T02:11:02.439Z"
   },
   {
    "duration": 19,
    "start_time": "2024-08-31T02:11:06.512Z"
   },
   {
    "duration": 3,
    "start_time": "2024-08-31T02:11:50.114Z"
   },
   {
    "duration": 3,
    "start_time": "2024-08-31T02:12:00.450Z"
   },
   {
    "duration": 23,
    "start_time": "2024-08-31T02:12:14.474Z"
   },
   {
    "duration": 2,
    "start_time": "2024-08-31T02:12:35.499Z"
   },
   {
    "duration": 15,
    "start_time": "2024-08-31T02:12:38.273Z"
   },
   {
    "duration": 3,
    "start_time": "2024-08-31T02:13:02.928Z"
   },
   {
    "duration": 13,
    "start_time": "2024-08-31T02:13:04.722Z"
   },
   {
    "duration": 2,
    "start_time": "2024-08-31T02:13:19.650Z"
   },
   {
    "duration": 14,
    "start_time": "2024-08-31T02:13:20.448Z"
   },
   {
    "duration": 27,
    "start_time": "2024-08-31T02:14:14.857Z"
   },
   {
    "duration": 25,
    "start_time": "2024-08-31T02:15:30.458Z"
   },
   {
    "duration": 27,
    "start_time": "2024-08-31T02:15:38.247Z"
   },
   {
    "duration": 24,
    "start_time": "2024-08-31T02:15:51.648Z"
   },
   {
    "duration": 26,
    "start_time": "2024-08-31T02:15:59.001Z"
   },
   {
    "duration": 15,
    "start_time": "2024-08-31T02:16:07.703Z"
   },
   {
    "duration": 2,
    "start_time": "2024-08-31T02:16:20.751Z"
   },
   {
    "duration": 15,
    "start_time": "2024-08-31T02:16:25.791Z"
   },
   {
    "duration": 4,
    "start_time": "2024-08-31T02:16:29.760Z"
   },
   {
    "duration": 12,
    "start_time": "2024-08-31T02:16:32.906Z"
   },
   {
    "duration": 24,
    "start_time": "2024-08-31T02:16:42.776Z"
   },
   {
    "duration": 14,
    "start_time": "2024-08-31T02:17:23.983Z"
   },
   {
    "duration": 14,
    "start_time": "2024-08-31T02:17:38.449Z"
   },
   {
    "duration": 14,
    "start_time": "2024-08-31T02:17:55.103Z"
   },
   {
    "duration": 22,
    "start_time": "2024-08-31T02:20:46.422Z"
   },
   {
    "duration": 15,
    "start_time": "2024-08-31T02:21:23.183Z"
   },
   {
    "duration": 20,
    "start_time": "2024-08-31T02:21:43.818Z"
   },
   {
    "duration": 21,
    "start_time": "2024-08-31T02:22:58.784Z"
   },
   {
    "duration": 19,
    "start_time": "2024-08-31T02:23:12.238Z"
   },
   {
    "duration": 21,
    "start_time": "2024-08-31T02:23:35.622Z"
   },
   {
    "duration": 33,
    "start_time": "2024-08-31T02:27:17.645Z"
   },
   {
    "duration": 20,
    "start_time": "2024-08-31T02:27:23.512Z"
   },
   {
    "duration": 21,
    "start_time": "2024-08-31T02:28:07.997Z"
   },
   {
    "duration": 13,
    "start_time": "2024-08-31T02:28:25.597Z"
   },
   {
    "duration": 33,
    "start_time": "2024-08-31T02:28:30.732Z"
   },
   {
    "duration": 3,
    "start_time": "2024-08-31T02:29:55.325Z"
   },
   {
    "duration": 12,
    "start_time": "2024-08-31T02:30:02.613Z"
   },
   {
    "duration": 32,
    "start_time": "2024-08-31T02:30:05.099Z"
   },
   {
    "duration": 33,
    "start_time": "2024-08-31T02:30:25.300Z"
   },
   {
    "duration": 3,
    "start_time": "2024-08-31T02:30:26.828Z"
   },
   {
    "duration": 13,
    "start_time": "2024-08-31T02:30:28.259Z"
   },
   {
    "duration": 33,
    "start_time": "2024-08-31T02:30:32.084Z"
   },
   {
    "duration": 165,
    "start_time": "2024-08-31T10:24:53.709Z"
   },
   {
    "duration": 12,
    "start_time": "2024-08-31T10:25:03.780Z"
   },
   {
    "duration": 307,
    "start_time": "2024-08-31T10:25:28.803Z"
   },
   {
    "duration": 151,
    "start_time": "2024-08-31T10:25:29.113Z"
   },
   {
    "duration": 14,
    "start_time": "2024-08-31T10:25:29.266Z"
   },
   {
    "duration": 32,
    "start_time": "2024-08-31T10:25:29.283Z"
   },
   {
    "duration": 4,
    "start_time": "2024-08-31T10:25:29.317Z"
   },
   {
    "duration": 4,
    "start_time": "2024-08-31T10:25:29.323Z"
   },
   {
    "duration": 4,
    "start_time": "2024-08-31T10:25:29.328Z"
   },
   {
    "duration": 18,
    "start_time": "2024-08-31T10:25:29.333Z"
   },
   {
    "duration": 55,
    "start_time": "2024-08-31T10:25:29.354Z"
   },
   {
    "duration": 18,
    "start_time": "2024-08-31T10:25:29.411Z"
   },
   {
    "duration": 42,
    "start_time": "2024-08-31T10:25:29.432Z"
   },
   {
    "duration": 71,
    "start_time": "2024-08-31T10:25:29.476Z"
   },
   {
    "duration": 45,
    "start_time": "2024-08-31T10:25:29.549Z"
   },
   {
    "duration": 47,
    "start_time": "2024-08-31T10:25:29.596Z"
   },
   {
    "duration": 31,
    "start_time": "2024-08-31T10:25:29.645Z"
   },
   {
    "duration": 3,
    "start_time": "2024-08-31T10:25:29.677Z"
   },
   {
    "duration": 31,
    "start_time": "2024-08-31T10:25:29.681Z"
   },
   {
    "duration": 43,
    "start_time": "2024-08-31T10:25:37.163Z"
   },
   {
    "duration": 404,
    "start_time": "2024-08-31T10:25:42.702Z"
   },
   {
    "duration": 13,
    "start_time": "2024-08-31T10:26:22.780Z"
   },
   {
    "duration": 4,
    "start_time": "2024-08-31T10:26:27.133Z"
   },
   {
    "duration": 16,
    "start_time": "2024-08-31T10:26:38.058Z"
   },
   {
    "duration": 14,
    "start_time": "2024-08-31T10:26:46.717Z"
   },
   {
    "duration": 19,
    "start_time": "2024-08-31T10:26:54.957Z"
   },
   {
    "duration": 9,
    "start_time": "2024-08-31T10:27:26.989Z"
   },
   {
    "duration": 10,
    "start_time": "2024-08-31T10:27:30.918Z"
   },
   {
    "duration": 9,
    "start_time": "2024-08-31T10:27:33.196Z"
   },
   {
    "duration": 20,
    "start_time": "2024-08-31T10:27:50.765Z"
   },
   {
    "duration": 25,
    "start_time": "2024-08-31T10:28:09.246Z"
   },
   {
    "duration": 10,
    "start_time": "2024-08-31T10:28:21.653Z"
   },
   {
    "duration": 9,
    "start_time": "2024-08-31T10:29:00.716Z"
   },
   {
    "duration": 8,
    "start_time": "2024-08-31T10:29:15.883Z"
   },
   {
    "duration": 9,
    "start_time": "2024-08-31T10:29:41.126Z"
   },
   {
    "duration": 15,
    "start_time": "2024-08-31T10:29:51.563Z"
   },
   {
    "duration": 6,
    "start_time": "2024-08-31T10:30:09.109Z"
   },
   {
    "duration": 7,
    "start_time": "2024-08-31T10:30:20.412Z"
   },
   {
    "duration": 6,
    "start_time": "2024-08-31T10:30:38.157Z"
   },
   {
    "duration": 7,
    "start_time": "2024-08-31T10:30:56.451Z"
   },
   {
    "duration": 3,
    "start_time": "2024-08-31T10:31:40.324Z"
   },
   {
    "duration": 4,
    "start_time": "2024-08-31T10:31:42.818Z"
   },
   {
    "duration": 3,
    "start_time": "2024-08-31T10:31:58.253Z"
   },
   {
    "duration": 119,
    "start_time": "2024-08-31T10:31:58.260Z"
   },
   {
    "duration": 10,
    "start_time": "2024-08-31T10:31:58.381Z"
   },
   {
    "duration": 27,
    "start_time": "2024-08-31T10:31:58.393Z"
   },
   {
    "duration": 4,
    "start_time": "2024-08-31T10:31:58.423Z"
   },
   {
    "duration": 3,
    "start_time": "2024-08-31T10:31:58.430Z"
   },
   {
    "duration": 4,
    "start_time": "2024-08-31T10:31:58.435Z"
   },
   {
    "duration": 21,
    "start_time": "2024-08-31T10:31:58.441Z"
   },
   {
    "duration": 57,
    "start_time": "2024-08-31T10:31:58.464Z"
   },
   {
    "duration": 19,
    "start_time": "2024-08-31T10:31:58.523Z"
   },
   {
    "duration": 65,
    "start_time": "2024-08-31T10:31:58.545Z"
   },
   {
    "duration": 54,
    "start_time": "2024-08-31T10:31:58.611Z"
   },
   {
    "duration": 56,
    "start_time": "2024-08-31T10:31:58.667Z"
   },
   {
    "duration": 39,
    "start_time": "2024-08-31T10:31:58.724Z"
   },
   {
    "duration": 45,
    "start_time": "2024-08-31T10:31:58.767Z"
   },
   {
    "duration": 3,
    "start_time": "2024-08-31T10:31:58.814Z"
   },
   {
    "duration": 16,
    "start_time": "2024-08-31T10:31:58.819Z"
   },
   {
    "duration": 33,
    "start_time": "2024-08-31T10:31:58.837Z"
   },
   {
    "duration": 67,
    "start_time": "2024-08-31T10:31:58.872Z"
   },
   {
    "duration": 8,
    "start_time": "2024-08-31T10:32:11.333Z"
   },
   {
    "duration": 10,
    "start_time": "2024-08-31T10:32:13.602Z"
   },
   {
    "duration": 39,
    "start_time": "2024-08-31T10:34:09.538Z"
   },
   {
    "duration": 5,
    "start_time": "2024-08-31T10:34:30.692Z"
   },
   {
    "duration": 6,
    "start_time": "2024-08-31T10:34:41.330Z"
   },
   {
    "duration": 5,
    "start_time": "2024-08-31T10:37:18.663Z"
   },
   {
    "duration": 5,
    "start_time": "2024-08-31T10:37:26.626Z"
   },
   {
    "duration": 6,
    "start_time": "2024-08-31T10:37:35.928Z"
   },
   {
    "duration": 3,
    "start_time": "2024-08-31T10:37:57.968Z"
   },
   {
    "duration": 9,
    "start_time": "2024-08-31T10:38:09.450Z"
   },
   {
    "duration": 6,
    "start_time": "2024-08-31T10:38:20.953Z"
   },
   {
    "duration": 4,
    "start_time": "2024-08-31T10:38:54.817Z"
   },
   {
    "duration": 4,
    "start_time": "2024-08-31T10:39:06.640Z"
   },
   {
    "duration": 5,
    "start_time": "2024-08-31T10:41:34.858Z"
   },
   {
    "duration": 15,
    "start_time": "2024-08-31T10:41:49.511Z"
   },
   {
    "duration": 4,
    "start_time": "2024-08-31T10:43:53.382Z"
   },
   {
    "duration": 6,
    "start_time": "2024-08-31T10:44:05.511Z"
   },
   {
    "duration": 9,
    "start_time": "2024-08-31T10:46:18.885Z"
   },
   {
    "duration": 8,
    "start_time": "2024-08-31T10:47:21.782Z"
   },
   {
    "duration": 9,
    "start_time": "2024-08-31T10:47:49.318Z"
   },
   {
    "duration": 20,
    "start_time": "2024-08-31T10:49:04.533Z"
   },
   {
    "duration": 45,
    "start_time": "2024-08-31T10:54:40.277Z"
   },
   {
    "duration": 14,
    "start_time": "2024-08-31T10:54:58.308Z"
   },
   {
    "duration": 18,
    "start_time": "2024-08-31T10:56:11.723Z"
   },
   {
    "duration": 12,
    "start_time": "2024-08-31T10:57:03.050Z"
   },
   {
    "duration": 11,
    "start_time": "2024-08-31T10:57:46.570Z"
   },
   {
    "duration": 9,
    "start_time": "2024-08-31T11:00:22.931Z"
   },
   {
    "duration": 10,
    "start_time": "2024-08-31T11:00:30.658Z"
   },
   {
    "duration": 4,
    "start_time": "2024-08-31T11:01:57.673Z"
   },
   {
    "duration": 10,
    "start_time": "2024-08-31T11:02:41.504Z"
   },
   {
    "duration": 10,
    "start_time": "2024-08-31T11:04:05.145Z"
   },
   {
    "duration": 13,
    "start_time": "2024-08-31T11:04:16.759Z"
   },
   {
    "duration": 10,
    "start_time": "2024-08-31T11:04:30.736Z"
   },
   {
    "duration": 13,
    "start_time": "2024-08-31T11:04:58.832Z"
   },
   {
    "duration": 14,
    "start_time": "2024-08-31T11:05:10.408Z"
   },
   {
    "duration": 10,
    "start_time": "2024-08-31T11:06:07.337Z"
   },
   {
    "duration": 9,
    "start_time": "2024-08-31T11:07:32.680Z"
   },
   {
    "duration": 9,
    "start_time": "2024-08-31T11:07:45.791Z"
   },
   {
    "duration": 18,
    "start_time": "2024-08-31T11:07:59.351Z"
   },
   {
    "duration": 12,
    "start_time": "2024-08-31T11:08:23.361Z"
   },
   {
    "duration": 11,
    "start_time": "2024-08-31T11:08:51.662Z"
   },
   {
    "duration": 20,
    "start_time": "2024-08-31T11:09:14.325Z"
   },
   {
    "duration": 19,
    "start_time": "2024-08-31T11:09:27.622Z"
   },
   {
    "duration": 10,
    "start_time": "2024-08-31T11:09:46.903Z"
   },
   {
    "duration": 3,
    "start_time": "2024-08-31T11:10:21.550Z"
   },
   {
    "duration": 3,
    "start_time": "2024-08-31T11:10:27.861Z"
   },
   {
    "duration": 4,
    "start_time": "2024-08-31T11:10:32.737Z"
   },
   {
    "duration": 5,
    "start_time": "2024-08-31T11:11:06.664Z"
   },
   {
    "duration": 4,
    "start_time": "2024-08-31T11:13:52.375Z"
   },
   {
    "duration": 7,
    "start_time": "2024-08-31T11:14:05.365Z"
   },
   {
    "duration": 5,
    "start_time": "2024-08-31T11:14:40.725Z"
   },
   {
    "duration": 5,
    "start_time": "2024-08-31T11:16:04.036Z"
   },
   {
    "duration": 14,
    "start_time": "2024-08-31T11:17:06.004Z"
   },
   {
    "duration": 12,
    "start_time": "2024-08-31T11:19:00.531Z"
   },
   {
    "duration": 5,
    "start_time": "2024-08-31T11:19:11.731Z"
   },
   {
    "duration": 5,
    "start_time": "2024-08-31T11:19:59.226Z"
   },
   {
    "duration": 10,
    "start_time": "2024-08-31T11:23:32.930Z"
   },
   {
    "duration": 9,
    "start_time": "2024-08-31T11:25:17.721Z"
   },
   {
    "duration": 10,
    "start_time": "2024-08-31T11:25:52.053Z"
   },
   {
    "duration": 11,
    "start_time": "2024-08-31T11:26:16.081Z"
   },
   {
    "duration": 14,
    "start_time": "2024-08-31T11:26:26.274Z"
   },
   {
    "duration": 16,
    "start_time": "2024-08-31T11:27:22.209Z"
   },
   {
    "duration": 8,
    "start_time": "2024-08-31T11:27:53.513Z"
   },
   {
    "duration": 10,
    "start_time": "2024-08-31T11:28:21.223Z"
   },
   {
    "duration": 11,
    "start_time": "2024-08-31T11:28:44.377Z"
   },
   {
    "duration": 14,
    "start_time": "2024-08-31T11:29:20.376Z"
   },
   {
    "duration": 377,
    "start_time": "2024-08-31T11:29:30.186Z"
   },
   {
    "duration": 7,
    "start_time": "2024-08-31T11:30:39.984Z"
   },
   {
    "duration": 7,
    "start_time": "2024-08-31T11:30:46.353Z"
   },
   {
    "duration": 7,
    "start_time": "2024-08-31T11:31:00.006Z"
   },
   {
    "duration": 14,
    "start_time": "2024-08-31T11:32:12.048Z"
   },
   {
    "duration": 9,
    "start_time": "2024-08-31T11:32:57.047Z"
   },
   {
    "duration": 17,
    "start_time": "2024-08-31T11:32:59.887Z"
   },
   {
    "duration": 14,
    "start_time": "2024-08-31T11:33:23.903Z"
   },
   {
    "duration": 4,
    "start_time": "2024-08-31T11:33:39.494Z"
   },
   {
    "duration": 12,
    "start_time": "2024-08-31T11:33:44.238Z"
   },
   {
    "duration": 10,
    "start_time": "2024-08-31T11:34:14.551Z"
   },
   {
    "duration": 7,
    "start_time": "2024-08-31T11:34:17.919Z"
   },
   {
    "duration": 7,
    "start_time": "2024-08-31T11:34:31.094Z"
   },
   {
    "duration": 9,
    "start_time": "2024-08-31T11:34:48.149Z"
   },
   {
    "duration": 11,
    "start_time": "2024-08-31T11:38:58.349Z"
   },
   {
    "duration": 11,
    "start_time": "2024-08-31T11:40:17.036Z"
   },
   {
    "duration": 14,
    "start_time": "2024-08-31T11:40:29.747Z"
   },
   {
    "duration": 9,
    "start_time": "2024-08-31T11:40:41.892Z"
   },
   {
    "duration": 14,
    "start_time": "2024-08-31T11:41:49.580Z"
   },
   {
    "duration": 15,
    "start_time": "2024-08-31T11:42:13.564Z"
   },
   {
    "duration": 14,
    "start_time": "2024-08-31T11:42:25.771Z"
   },
   {
    "duration": 13,
    "start_time": "2024-08-31T11:42:29.420Z"
   },
   {
    "duration": 8,
    "start_time": "2024-08-31T11:42:35.318Z"
   },
   {
    "duration": 363,
    "start_time": "2024-09-01T01:10:16.756Z"
   },
   {
    "duration": 168,
    "start_time": "2024-09-01T01:10:17.122Z"
   },
   {
    "duration": 17,
    "start_time": "2024-09-01T01:10:17.292Z"
   },
   {
    "duration": 39,
    "start_time": "2024-09-01T01:10:17.310Z"
   },
   {
    "duration": 4,
    "start_time": "2024-09-01T01:10:17.353Z"
   },
   {
    "duration": 4,
    "start_time": "2024-09-01T01:10:17.359Z"
   },
   {
    "duration": 4,
    "start_time": "2024-09-01T01:10:17.365Z"
   },
   {
    "duration": 21,
    "start_time": "2024-09-01T01:10:17.370Z"
   },
   {
    "duration": 60,
    "start_time": "2024-09-01T01:10:17.393Z"
   },
   {
    "duration": 21,
    "start_time": "2024-09-01T01:10:17.455Z"
   },
   {
    "duration": 68,
    "start_time": "2024-09-01T01:10:17.477Z"
   },
   {
    "duration": 65,
    "start_time": "2024-09-01T01:10:17.547Z"
   },
   {
    "duration": 64,
    "start_time": "2024-09-01T01:10:17.614Z"
   },
   {
    "duration": 50,
    "start_time": "2024-09-01T01:10:17.681Z"
   },
   {
    "duration": 33,
    "start_time": "2024-09-01T01:10:17.743Z"
   },
   {
    "duration": 3,
    "start_time": "2024-09-01T01:10:17.778Z"
   },
   {
    "duration": 14,
    "start_time": "2024-09-01T01:10:17.784Z"
   },
   {
    "duration": 59,
    "start_time": "2024-09-01T01:10:17.799Z"
   },
   {
    "duration": 9,
    "start_time": "2024-09-01T01:10:17.861Z"
   },
   {
    "duration": 8,
    "start_time": "2024-09-01T01:10:17.872Z"
   },
   {
    "duration": 11,
    "start_time": "2024-09-01T01:10:17.882Z"
   },
   {
    "duration": 6,
    "start_time": "2024-09-01T01:10:17.895Z"
   },
   {
    "duration": 45,
    "start_time": "2024-09-01T01:10:17.903Z"
   },
   {
    "duration": 4,
    "start_time": "2024-09-01T01:22:19.089Z"
   },
   {
    "duration": 9,
    "start_time": "2024-09-01T01:22:25.079Z"
   },
   {
    "duration": 88,
    "start_time": "2024-09-01T01:22:44.313Z"
   },
   {
    "duration": 10,
    "start_time": "2024-09-01T01:22:55.896Z"
   },
   {
    "duration": 16,
    "start_time": "2024-09-01T01:23:09.356Z"
   },
   {
    "duration": 7,
    "start_time": "2024-09-01T01:23:22.375Z"
   },
   {
    "duration": 317,
    "start_time": "2024-09-01T04:24:25.769Z"
   },
   {
    "duration": 148,
    "start_time": "2024-09-01T04:24:26.088Z"
   },
   {
    "duration": 14,
    "start_time": "2024-09-01T04:24:26.237Z"
   },
   {
    "duration": 26,
    "start_time": "2024-09-01T04:24:26.253Z"
   },
   {
    "duration": 4,
    "start_time": "2024-09-01T04:24:26.282Z"
   },
   {
    "duration": 24,
    "start_time": "2024-09-01T04:24:26.288Z"
   },
   {
    "duration": 4,
    "start_time": "2024-09-01T04:24:26.315Z"
   },
   {
    "duration": 22,
    "start_time": "2024-09-01T04:24:26.321Z"
   },
   {
    "duration": 25,
    "start_time": "2024-09-01T04:24:26.345Z"
   },
   {
    "duration": 43,
    "start_time": "2024-09-01T04:24:26.372Z"
   },
   {
    "duration": 44,
    "start_time": "2024-09-01T04:24:26.417Z"
   },
   {
    "duration": 73,
    "start_time": "2024-09-01T04:24:26.462Z"
   },
   {
    "duration": 46,
    "start_time": "2024-09-01T04:24:26.537Z"
   },
   {
    "duration": 52,
    "start_time": "2024-09-01T04:24:26.587Z"
   },
   {
    "duration": 32,
    "start_time": "2024-09-01T04:24:26.641Z"
   },
   {
    "duration": 3,
    "start_time": "2024-09-01T04:24:26.675Z"
   },
   {
    "duration": 36,
    "start_time": "2024-09-01T04:24:26.680Z"
   },
   {
    "duration": 32,
    "start_time": "2024-09-01T04:24:26.718Z"
   },
   {
    "duration": 9,
    "start_time": "2024-09-01T04:24:26.751Z"
   },
   {
    "duration": 9,
    "start_time": "2024-09-01T04:24:26.761Z"
   },
   {
    "duration": 11,
    "start_time": "2024-09-01T04:24:26.772Z"
   },
   {
    "duration": 32,
    "start_time": "2024-09-01T04:24:26.784Z"
   },
   {
    "duration": 12,
    "start_time": "2024-09-01T04:24:26.817Z"
   },
   {
    "duration": 7,
    "start_time": "2024-09-01T04:24:26.831Z"
   },
   {
    "duration": 318,
    "start_time": "2024-09-01T04:38:40.235Z"
   },
   {
    "duration": 120,
    "start_time": "2024-09-01T04:38:40.555Z"
   },
   {
    "duration": 15,
    "start_time": "2024-09-01T04:38:40.677Z"
   },
   {
    "duration": 35,
    "start_time": "2024-09-01T04:38:40.695Z"
   },
   {
    "duration": 4,
    "start_time": "2024-09-01T04:38:40.731Z"
   },
   {
    "duration": 3,
    "start_time": "2024-09-01T04:38:40.737Z"
   },
   {
    "duration": 3,
    "start_time": "2024-09-01T04:38:40.743Z"
   },
   {
    "duration": 18,
    "start_time": "2024-09-01T04:38:40.748Z"
   },
   {
    "duration": 49,
    "start_time": "2024-09-01T04:38:40.768Z"
   },
   {
    "duration": 17,
    "start_time": "2024-09-01T04:38:40.820Z"
   },
   {
    "duration": 40,
    "start_time": "2024-09-01T04:38:40.839Z"
   },
   {
    "duration": 78,
    "start_time": "2024-09-01T04:38:40.881Z"
   },
   {
    "duration": 53,
    "start_time": "2024-09-01T04:38:40.961Z"
   },
   {
    "duration": 38,
    "start_time": "2024-09-01T04:38:41.016Z"
   },
   {
    "duration": 32,
    "start_time": "2024-09-01T04:38:41.056Z"
   },
   {
    "duration": 2,
    "start_time": "2024-09-01T04:38:41.090Z"
   },
   {
    "duration": 14,
    "start_time": "2024-09-01T04:38:41.112Z"
   },
   {
    "duration": 31,
    "start_time": "2024-09-01T04:38:41.128Z"
   },
   {
    "duration": 7,
    "start_time": "2024-09-01T04:38:41.161Z"
   },
   {
    "duration": 8,
    "start_time": "2024-09-01T04:38:41.169Z"
   },
   {
    "duration": 34,
    "start_time": "2024-09-01T04:38:41.178Z"
   },
   {
    "duration": 7,
    "start_time": "2024-09-01T04:38:41.214Z"
   },
   {
    "duration": 11,
    "start_time": "2024-09-01T04:38:41.223Z"
   },
   {
    "duration": 7,
    "start_time": "2024-09-01T04:38:41.237Z"
   }
  ],
  "kernelspec": {
   "display_name": "Python 3 (ipykernel)",
   "language": "python",
   "name": "python3"
  },
  "language_info": {
   "codemirror_mode": {
    "name": "ipython",
    "version": 3
   },
   "file_extension": ".py",
   "mimetype": "text/x-python",
   "name": "python",
   "nbconvert_exporter": "python",
   "pygments_lexer": "ipython3",
   "version": "3.9.19"
  },
  "toc": {
   "base_numbering": 1,
   "nav_menu": {},
   "number_sections": true,
   "sideBar": true,
   "skip_h1_title": true,
   "title_cell": "Table of Contents",
   "title_sidebar": "Contents",
   "toc_cell": false,
   "toc_position": {},
   "toc_section_display": true,
   "toc_window_display": false
  }
 },
 "nbformat": 4,
 "nbformat_minor": 5
}
